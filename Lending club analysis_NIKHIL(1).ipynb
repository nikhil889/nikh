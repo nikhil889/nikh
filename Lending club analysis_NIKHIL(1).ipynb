{
 "cells": [
  {
   "cell_type": "code",
   "execution_count": 1,
   "metadata": {},
   "outputs": [],
   "source": [
    "import numpy as np\n",
    "import pandas as pd\n",
    "import matplotlib.pyplot as plt\n",
    "import seaborn as sns"
   ]
  },
  {
   "cell_type": "code",
   "execution_count": null,
   "metadata": {},
   "outputs": [],
   "source": [
    "pwd"
   ]
  },
  {
   "cell_type": "code",
   "execution_count": 4,
   "metadata": {},
   "outputs": [],
   "source": [
    "loan = pd.read_csv(\"loan.csv\", sep=\",\")\n"
   ]
  },
  {
   "cell_type": "code",
   "execution_count": 5,
   "metadata": {},
   "outputs": [
    {
     "name": "stdout",
     "output_type": "stream",
     "text": [
      "<class 'pandas.core.frame.DataFrame'>\n",
      "RangeIndex: 39717 entries, 0 to 39716\n",
      "Data columns (total 59 columns):\n",
      "id                            39717 non-null int64\n",
      "member_id                     39717 non-null int64\n",
      "loan_amnt                     39717 non-null int64\n",
      "funded_amnt                   39717 non-null int64\n",
      "funded_amnt_inv               39717 non-null float64\n",
      "term                          39717 non-null int64\n",
      "months                        39717 non-null object\n",
      "int_rate                      39717 non-null object\n",
      "installment                   39717 non-null float64\n",
      "grade                         39717 non-null object\n",
      "sub_grade                     39717 non-null object\n",
      "emp_title                     37258 non-null object\n",
      "emp_length                    38642 non-null object\n",
      "No of uears                   38642 non-null object\n",
      "home_ownership                39717 non-null object\n",
      "annual_inc                    39717 non-null float64\n",
      "verification_status           39717 non-null object\n",
      "issue_d                       39717 non-null object\n",
      "loan_status                   39717 non-null object\n",
      "pymnt_plan                    39717 non-null object\n",
      "url                           39717 non-null object\n",
      "desc                          26777 non-null object\n",
      "purpose                       39717 non-null object\n",
      "title                         39706 non-null object\n",
      "zip_code                      39717 non-null object\n",
      "addr_state                    39717 non-null object\n",
      "dti                           39717 non-null float64\n",
      "delinq_2yrs                   39717 non-null int64\n",
      "earliest_cr_line              39717 non-null object\n",
      "inq_last_6mths                39717 non-null int64\n",
      "mths_since_last_delinq        14035 non-null float64\n",
      "open_acc                      39717 non-null int64\n",
      "pub_rec                       39717 non-null int64\n",
      "revol_bal                     39717 non-null int64\n",
      "revol_util                    39667 non-null object\n",
      "total_acc                     39717 non-null int64\n",
      "initial_list_status           39717 non-null object\n",
      "out_prncp                     39717 non-null float64\n",
      "out_prncp_inv                 39717 non-null float64\n",
      "total_pymnt                   39717 non-null float64\n",
      "total_pymnt_inv               39717 non-null float64\n",
      "total_rec_prncp               39717 non-null float64\n",
      "total_rec_int                 39717 non-null float64\n",
      "total_rec_late_fee            39717 non-null float64\n",
      "recoveries                    39717 non-null float64\n",
      "collection_recovery_fee       39717 non-null float64\n",
      "last_pymnt_d                  39646 non-null object\n",
      "last_pymnt_amnt               39717 non-null float64\n",
      "last_credit_pull_d            39715 non-null object\n",
      "collections_12_mths_ex_med    39661 non-null float64\n",
      "policy_code                   39717 non-null int64\n",
      "application_type              39717 non-null object\n",
      "acc_now_delinq                39717 non-null int64\n",
      "chargeoff_within_12_mths      39661 non-null float64\n",
      "delinq_amnt                   39717 non-null int64\n",
      "pub_rec_bankruptcies          39020 non-null float64\n",
      "tax_liens                     39678 non-null float64\n",
      "HOME_N                        39717 non-null object\n",
      "LOAN_STAT_N                   39717 non-null int64\n",
      "dtypes: float64(19), int64(15), object(25)\n",
      "memory usage: 17.9+ MB\n"
     ]
    }
   ],
   "source": [
    "loan = pd.read_csv(\"loan.csv\", sep=\",\")\n",
    "loan.info()"
   ]
  },
  {
   "cell_type": "code",
   "execution_count": 8,
   "metadata": {},
   "outputs": [
    {
     "data": {
      "text/html": [
       "<div>\n",
       "<style scoped>\n",
       "    .dataframe tbody tr th:only-of-type {\n",
       "        vertical-align: middle;\n",
       "    }\n",
       "\n",
       "    .dataframe tbody tr th {\n",
       "        vertical-align: top;\n",
       "    }\n",
       "\n",
       "    .dataframe thead th {\n",
       "        text-align: right;\n",
       "    }\n",
       "</style>\n",
       "<table border=\"1\" class=\"dataframe\">\n",
       "  <thead>\n",
       "    <tr style=\"text-align: right;\">\n",
       "      <th></th>\n",
       "      <th>id</th>\n",
       "      <th>member_id</th>\n",
       "      <th>loan_amnt</th>\n",
       "      <th>funded_amnt</th>\n",
       "      <th>funded_amnt_inv</th>\n",
       "      <th>term</th>\n",
       "      <th>int_rate</th>\n",
       "      <th>installment</th>\n",
       "      <th>grade</th>\n",
       "      <th>sub_grade</th>\n",
       "      <th>...</th>\n",
       "      <th>num_tl_90g_dpd_24m</th>\n",
       "      <th>num_tl_op_past_12m</th>\n",
       "      <th>pct_tl_nvr_dlq</th>\n",
       "      <th>percent_bc_gt_75</th>\n",
       "      <th>pub_rec_bankruptcies</th>\n",
       "      <th>tax_liens</th>\n",
       "      <th>tot_hi_cred_lim</th>\n",
       "      <th>total_bal_ex_mort</th>\n",
       "      <th>total_bc_limit</th>\n",
       "      <th>total_il_high_credit_limit</th>\n",
       "    </tr>\n",
       "  </thead>\n",
       "  <tbody>\n",
       "    <tr>\n",
       "      <th>0</th>\n",
       "      <td>1077501</td>\n",
       "      <td>1296599</td>\n",
       "      <td>5000</td>\n",
       "      <td>5000</td>\n",
       "      <td>4975.0</td>\n",
       "      <td>36 months</td>\n",
       "      <td>10.65%</td>\n",
       "      <td>162.87</td>\n",
       "      <td>B</td>\n",
       "      <td>B2</td>\n",
       "      <td>...</td>\n",
       "      <td>NaN</td>\n",
       "      <td>NaN</td>\n",
       "      <td>NaN</td>\n",
       "      <td>NaN</td>\n",
       "      <td>0.0</td>\n",
       "      <td>0.0</td>\n",
       "      <td>NaN</td>\n",
       "      <td>NaN</td>\n",
       "      <td>NaN</td>\n",
       "      <td>NaN</td>\n",
       "    </tr>\n",
       "    <tr>\n",
       "      <th>1</th>\n",
       "      <td>1077430</td>\n",
       "      <td>1314167</td>\n",
       "      <td>2500</td>\n",
       "      <td>2500</td>\n",
       "      <td>2500.0</td>\n",
       "      <td>60 months</td>\n",
       "      <td>15.27%</td>\n",
       "      <td>59.83</td>\n",
       "      <td>C</td>\n",
       "      <td>C4</td>\n",
       "      <td>...</td>\n",
       "      <td>NaN</td>\n",
       "      <td>NaN</td>\n",
       "      <td>NaN</td>\n",
       "      <td>NaN</td>\n",
       "      <td>0.0</td>\n",
       "      <td>0.0</td>\n",
       "      <td>NaN</td>\n",
       "      <td>NaN</td>\n",
       "      <td>NaN</td>\n",
       "      <td>NaN</td>\n",
       "    </tr>\n",
       "    <tr>\n",
       "      <th>2</th>\n",
       "      <td>1077175</td>\n",
       "      <td>1313524</td>\n",
       "      <td>2400</td>\n",
       "      <td>2400</td>\n",
       "      <td>2400.0</td>\n",
       "      <td>36 months</td>\n",
       "      <td>15.96%</td>\n",
       "      <td>84.33</td>\n",
       "      <td>C</td>\n",
       "      <td>C5</td>\n",
       "      <td>...</td>\n",
       "      <td>NaN</td>\n",
       "      <td>NaN</td>\n",
       "      <td>NaN</td>\n",
       "      <td>NaN</td>\n",
       "      <td>0.0</td>\n",
       "      <td>0.0</td>\n",
       "      <td>NaN</td>\n",
       "      <td>NaN</td>\n",
       "      <td>NaN</td>\n",
       "      <td>NaN</td>\n",
       "    </tr>\n",
       "    <tr>\n",
       "      <th>3</th>\n",
       "      <td>1076863</td>\n",
       "      <td>1277178</td>\n",
       "      <td>10000</td>\n",
       "      <td>10000</td>\n",
       "      <td>10000.0</td>\n",
       "      <td>36 months</td>\n",
       "      <td>13.49%</td>\n",
       "      <td>339.31</td>\n",
       "      <td>C</td>\n",
       "      <td>C1</td>\n",
       "      <td>...</td>\n",
       "      <td>NaN</td>\n",
       "      <td>NaN</td>\n",
       "      <td>NaN</td>\n",
       "      <td>NaN</td>\n",
       "      <td>0.0</td>\n",
       "      <td>0.0</td>\n",
       "      <td>NaN</td>\n",
       "      <td>NaN</td>\n",
       "      <td>NaN</td>\n",
       "      <td>NaN</td>\n",
       "    </tr>\n",
       "    <tr>\n",
       "      <th>4</th>\n",
       "      <td>1075358</td>\n",
       "      <td>1311748</td>\n",
       "      <td>3000</td>\n",
       "      <td>3000</td>\n",
       "      <td>3000.0</td>\n",
       "      <td>60 months</td>\n",
       "      <td>12.69%</td>\n",
       "      <td>67.79</td>\n",
       "      <td>B</td>\n",
       "      <td>B5</td>\n",
       "      <td>...</td>\n",
       "      <td>NaN</td>\n",
       "      <td>NaN</td>\n",
       "      <td>NaN</td>\n",
       "      <td>NaN</td>\n",
       "      <td>0.0</td>\n",
       "      <td>0.0</td>\n",
       "      <td>NaN</td>\n",
       "      <td>NaN</td>\n",
       "      <td>NaN</td>\n",
       "      <td>NaN</td>\n",
       "    </tr>\n",
       "  </tbody>\n",
       "</table>\n",
       "<p>5 rows × 111 columns</p>\n",
       "</div>"
      ],
      "text/plain": [
       "        id  member_id  loan_amnt  funded_amnt  funded_amnt_inv        term  \\\n",
       "0  1077501    1296599       5000         5000           4975.0   36 months   \n",
       "1  1077430    1314167       2500         2500           2500.0   60 months   \n",
       "2  1077175    1313524       2400         2400           2400.0   36 months   \n",
       "3  1076863    1277178      10000        10000          10000.0   36 months   \n",
       "4  1075358    1311748       3000         3000           3000.0   60 months   \n",
       "\n",
       "  int_rate  installment grade sub_grade  ... num_tl_90g_dpd_24m  \\\n",
       "0   10.65%       162.87     B        B2  ...                NaN   \n",
       "1   15.27%        59.83     C        C4  ...                NaN   \n",
       "2   15.96%        84.33     C        C5  ...                NaN   \n",
       "3   13.49%       339.31     C        C1  ...                NaN   \n",
       "4   12.69%        67.79     B        B5  ...                NaN   \n",
       "\n",
       "  num_tl_op_past_12m pct_tl_nvr_dlq  percent_bc_gt_75 pub_rec_bankruptcies  \\\n",
       "0                NaN            NaN               NaN                  0.0   \n",
       "1                NaN            NaN               NaN                  0.0   \n",
       "2                NaN            NaN               NaN                  0.0   \n",
       "3                NaN            NaN               NaN                  0.0   \n",
       "4                NaN            NaN               NaN                  0.0   \n",
       "\n",
       "  tax_liens tot_hi_cred_lim total_bal_ex_mort total_bc_limit  \\\n",
       "0       0.0             NaN               NaN            NaN   \n",
       "1       0.0             NaN               NaN            NaN   \n",
       "2       0.0             NaN               NaN            NaN   \n",
       "3       0.0             NaN               NaN            NaN   \n",
       "4       0.0             NaN               NaN            NaN   \n",
       "\n",
       "  total_il_high_credit_limit  \n",
       "0                        NaN  \n",
       "1                        NaN  \n",
       "2                        NaN  \n",
       "3                        NaN  \n",
       "4                        NaN  \n",
       "\n",
       "[5 rows x 111 columns]"
      ]
     },
     "execution_count": 8,
     "metadata": {},
     "output_type": "execute_result"
    }
   ],
   "source": [
    "loan.head()"
   ]
  },
  {
   "cell_type": "code",
   "execution_count": 6,
   "metadata": {},
   "outputs": [
    {
     "data": {
      "text/plain": [
       "Index(['id', 'member_id', 'loan_amnt', 'funded_amnt', 'funded_amnt_inv',\n",
       "       'term', 'months', 'int_rate', 'installment', 'grade', 'sub_grade',\n",
       "       'emp_title', 'emp_length', 'No of uears', 'home_ownership',\n",
       "       'annual_inc', 'verification_status', 'issue_d', 'loan_status',\n",
       "       'pymnt_plan', 'url', 'desc', 'purpose', 'title', 'zip_code',\n",
       "       'addr_state', 'dti', 'delinq_2yrs', 'earliest_cr_line',\n",
       "       'inq_last_6mths', 'mths_since_last_delinq', 'open_acc', 'pub_rec',\n",
       "       'revol_bal', 'revol_util', 'total_acc', 'initial_list_status',\n",
       "       'out_prncp', 'out_prncp_inv', 'total_pymnt', 'total_pymnt_inv',\n",
       "       'total_rec_prncp', 'total_rec_int', 'total_rec_late_fee', 'recoveries',\n",
       "       'collection_recovery_fee', 'last_pymnt_d', 'last_pymnt_amnt',\n",
       "       'last_credit_pull_d', 'collections_12_mths_ex_med', 'policy_code',\n",
       "       'application_type', 'acc_now_delinq', 'chargeoff_within_12_mths',\n",
       "       'delinq_amnt', 'pub_rec_bankruptcies', 'tax_liens', 'HOME_N',\n",
       "       'LOAN_STAT_N'],\n",
       "      dtype='object')"
      ]
     },
     "execution_count": 6,
     "metadata": {},
     "output_type": "execute_result"
    }
   ],
   "source": [
    "# column names\n",
    "loan.columns"
   ]
  },
  {
   "cell_type": "code",
   "execution_count": 7,
   "metadata": {},
   "outputs": [
    {
     "data": {
      "text/plain": [
       "id                                0\n",
       "member_id                         0\n",
       "loan_amnt                         0\n",
       "funded_amnt                       0\n",
       "funded_amnt_inv                   0\n",
       "term                              0\n",
       "months                            0\n",
       "int_rate                          0\n",
       "installment                       0\n",
       "grade                             0\n",
       "sub_grade                         0\n",
       "emp_title                      2459\n",
       "emp_length                     1075\n",
       "No of uears                    1075\n",
       "home_ownership                    0\n",
       "annual_inc                        0\n",
       "verification_status               0\n",
       "issue_d                           0\n",
       "loan_status                       0\n",
       "pymnt_plan                        0\n",
       "url                               0\n",
       "desc                          12940\n",
       "purpose                           0\n",
       "title                            11\n",
       "zip_code                          0\n",
       "addr_state                        0\n",
       "dti                               0\n",
       "delinq_2yrs                       0\n",
       "earliest_cr_line                  0\n",
       "inq_last_6mths                    0\n",
       "mths_since_last_delinq        25682\n",
       "open_acc                          0\n",
       "pub_rec                           0\n",
       "revol_bal                         0\n",
       "revol_util                       50\n",
       "total_acc                         0\n",
       "initial_list_status               0\n",
       "out_prncp                         0\n",
       "out_prncp_inv                     0\n",
       "total_pymnt                       0\n",
       "total_pymnt_inv                   0\n",
       "total_rec_prncp                   0\n",
       "total_rec_int                     0\n",
       "total_rec_late_fee                0\n",
       "recoveries                        0\n",
       "collection_recovery_fee           0\n",
       "last_pymnt_d                     71\n",
       "last_pymnt_amnt                   0\n",
       "last_credit_pull_d                2\n",
       "collections_12_mths_ex_med       56\n",
       "policy_code                       0\n",
       "application_type                  0\n",
       "acc_now_delinq                    0\n",
       "chargeoff_within_12_mths         56\n",
       "delinq_amnt                       0\n",
       "pub_rec_bankruptcies            697\n",
       "tax_liens                        39\n",
       "HOME_N                            0\n",
       "LOAN_STAT_N                       0\n",
       "dtype: int64"
      ]
     },
     "execution_count": 7,
     "metadata": {},
     "output_type": "execute_result"
    }
   ],
   "source": [
    "# summarising missing values by each column\n",
    "loan.isnull().sum()"
   ]
  },
  {
   "cell_type": "code",
   "execution_count": 8,
   "metadata": {},
   "outputs": [
    {
     "data": {
      "text/plain": [
       "id                             0.0\n",
       "member_id                      0.0\n",
       "loan_amnt                      0.0\n",
       "funded_amnt                    0.0\n",
       "funded_amnt_inv                0.0\n",
       "term                           0.0\n",
       "months                         0.0\n",
       "int_rate                       0.0\n",
       "installment                    0.0\n",
       "grade                          0.0\n",
       "sub_grade                      0.0\n",
       "emp_title                      6.0\n",
       "emp_length                     3.0\n",
       "No of uears                    3.0\n",
       "home_ownership                 0.0\n",
       "annual_inc                     0.0\n",
       "verification_status            0.0\n",
       "issue_d                        0.0\n",
       "loan_status                    0.0\n",
       "pymnt_plan                     0.0\n",
       "url                            0.0\n",
       "desc                          33.0\n",
       "purpose                        0.0\n",
       "title                          0.0\n",
       "zip_code                       0.0\n",
       "addr_state                     0.0\n",
       "dti                            0.0\n",
       "delinq_2yrs                    0.0\n",
       "earliest_cr_line               0.0\n",
       "inq_last_6mths                 0.0\n",
       "mths_since_last_delinq        65.0\n",
       "open_acc                       0.0\n",
       "pub_rec                        0.0\n",
       "revol_bal                      0.0\n",
       "revol_util                     0.0\n",
       "total_acc                      0.0\n",
       "initial_list_status            0.0\n",
       "out_prncp                      0.0\n",
       "out_prncp_inv                  0.0\n",
       "total_pymnt                    0.0\n",
       "total_pymnt_inv                0.0\n",
       "total_rec_prncp                0.0\n",
       "total_rec_int                  0.0\n",
       "total_rec_late_fee             0.0\n",
       "recoveries                     0.0\n",
       "collection_recovery_fee        0.0\n",
       "last_pymnt_d                   0.0\n",
       "last_pymnt_amnt                0.0\n",
       "last_credit_pull_d             0.0\n",
       "collections_12_mths_ex_med     0.0\n",
       "policy_code                    0.0\n",
       "application_type               0.0\n",
       "acc_now_delinq                 0.0\n",
       "chargeoff_within_12_mths       0.0\n",
       "delinq_amnt                    0.0\n",
       "pub_rec_bankruptcies           2.0\n",
       "tax_liens                      0.0\n",
       "HOME_N                         0.0\n",
       "LOAN_STAT_N                    0.0\n",
       "dtype: float64"
      ]
     },
     "execution_count": 8,
     "metadata": {},
     "output_type": "execute_result"
    }
   ],
   "source": [
    "# percentage of missing values in each column\n",
    "round(loan.isnull().sum()/len(loan.index), 2)*100"
   ]
  },
  {
   "cell_type": "code",
   "execution_count": 9,
   "metadata": {},
   "outputs": [
    {
     "name": "stdout",
     "output_type": "stream",
     "text": [
      "Index([], dtype='object')\n"
     ]
    }
   ],
   "source": [
    "# Now removing columns having 90% missing values.\n",
    "missing_columns = loan.columns[100*(loan.isnull().sum()/len(loan.index)) > 90]\n",
    "print(missing_columns)\n"
   ]
  },
  {
   "cell_type": "code",
   "execution_count": 14,
   "metadata": {},
   "outputs": [
    {
     "name": "stdout",
     "output_type": "stream",
     "text": [
      "(39717, 55)\n"
     ]
    }
   ],
   "source": [
    "#After removing unwanted columns remaining columns\n",
    "loan = loan.drop(missing_columns, axis=1)\n",
    "print(loan.shape)\n"
   ]
  },
  {
   "cell_type": "code",
   "execution_count": 10,
   "metadata": {},
   "outputs": [
    {
     "data": {
      "text/html": [
       "<div>\n",
       "<style scoped>\n",
       "    .dataframe tbody tr th:only-of-type {\n",
       "        vertical-align: middle;\n",
       "    }\n",
       "\n",
       "    .dataframe tbody tr th {\n",
       "        vertical-align: top;\n",
       "    }\n",
       "\n",
       "    .dataframe thead th {\n",
       "        text-align: right;\n",
       "    }\n",
       "</style>\n",
       "<table border=\"1\" class=\"dataframe\">\n",
       "  <thead>\n",
       "    <tr style=\"text-align: right;\">\n",
       "      <th></th>\n",
       "      <th>desc</th>\n",
       "      <th>mths_since_last_delinq</th>\n",
       "    </tr>\n",
       "  </thead>\n",
       "  <tbody>\n",
       "    <tr>\n",
       "      <th>0</th>\n",
       "      <td>Borrower added on 12/22/11 &gt; I need to upgra...</td>\n",
       "      <td>NaN</td>\n",
       "    </tr>\n",
       "    <tr>\n",
       "      <th>1</th>\n",
       "      <td>Borrower added on 12/22/11 &gt; I plan to use t...</td>\n",
       "      <td>NaN</td>\n",
       "    </tr>\n",
       "    <tr>\n",
       "      <th>2</th>\n",
       "      <td>NaN</td>\n",
       "      <td>NaN</td>\n",
       "    </tr>\n",
       "    <tr>\n",
       "      <th>3</th>\n",
       "      <td>Borrower added on 12/21/11 &gt; to pay for prop...</td>\n",
       "      <td>35.0</td>\n",
       "    </tr>\n",
       "    <tr>\n",
       "      <th>4</th>\n",
       "      <td>Borrower added on 12/21/11 &gt; I plan on combi...</td>\n",
       "      <td>38.0</td>\n",
       "    </tr>\n",
       "  </tbody>\n",
       "</table>\n",
       "</div>"
      ],
      "text/plain": [
       "                                                desc  mths_since_last_delinq\n",
       "0    Borrower added on 12/22/11 > I need to upgra...                     NaN\n",
       "1    Borrower added on 12/22/11 > I plan to use t...                     NaN\n",
       "2                                                NaN                     NaN\n",
       "3    Borrower added on 12/21/11 > to pay for prop...                    35.0\n",
       "4    Borrower added on 12/21/11 > I plan on combi...                    38.0"
      ]
     },
     "execution_count": 10,
     "metadata": {},
     "output_type": "execute_result"
    }
   ],
   "source": [
    "# There are now 2 columns having approx 32 and 64% missing values \n",
    "# Lets have look into it-\n",
    "loan.loc[:, ['desc', 'mths_since_last_delinq']].head()"
   ]
  },
  {
   "cell_type": "code",
   "execution_count": 11,
   "metadata": {},
   "outputs": [],
   "source": [
    "# dropping the two columns due to high percentage of missing values\n",
    "loan = loan.drop(['desc', 'mths_since_last_delinq'], axis=1)"
   ]
  },
  {
   "cell_type": "code",
   "execution_count": 12,
   "metadata": {},
   "outputs": [
    {
     "data": {
      "text/plain": [
       "0        1\n",
       "1        0\n",
       "2        1\n",
       "3        0\n",
       "4        0\n",
       "5        0\n",
       "6        0\n",
       "7        0\n",
       "8        1\n",
       "9        0\n",
       "10       0\n",
       "11       0\n",
       "12       0\n",
       "13       0\n",
       "14       0\n",
       "15       0\n",
       "16       0\n",
       "17       0\n",
       "18       0\n",
       "19       0\n",
       "20       0\n",
       "21       0\n",
       "22       0\n",
       "23       0\n",
       "24       0\n",
       "25       0\n",
       "26       1\n",
       "27       0\n",
       "28       0\n",
       "29       0\n",
       "        ..\n",
       "39687    4\n",
       "39688    4\n",
       "39689    4\n",
       "39690    4\n",
       "39691    4\n",
       "39692    4\n",
       "39693    4\n",
       "39694    4\n",
       "39695    4\n",
       "39696    4\n",
       "39697    4\n",
       "39698    4\n",
       "39699    4\n",
       "39700    5\n",
       "39701    4\n",
       "39702    4\n",
       "39703    4\n",
       "39704    5\n",
       "39705    4\n",
       "39706    5\n",
       "39707    4\n",
       "39708    4\n",
       "39709    4\n",
       "39710    4\n",
       "39711    4\n",
       "39712    4\n",
       "39713    4\n",
       "39714    5\n",
       "39715    5\n",
       "39716    4\n",
       "Length: 39717, dtype: int64"
      ]
     },
     "execution_count": 12,
     "metadata": {},
     "output_type": "execute_result"
    }
   ],
   "source": [
    "# missing values in rows\n",
    "loan.isnull().sum(axis=1)"
   ]
  },
  {
   "cell_type": "code",
   "execution_count": 13,
   "metadata": {},
   "outputs": [
    {
     "data": {
      "text/plain": [
       "0"
      ]
     },
     "execution_count": 13,
     "metadata": {},
     "output_type": "execute_result"
    }
   ],
   "source": [
    "# checking whether some rows have more than 5 missing values\n",
    "len(loan[loan.isnull().sum(axis=1) > 5].index)"
   ]
  },
  {
   "cell_type": "code",
   "execution_count": 14,
   "metadata": {},
   "outputs": [
    {
     "name": "stdout",
     "output_type": "stream",
     "text": [
      "<class 'pandas.core.frame.DataFrame'>\n",
      "RangeIndex: 39717 entries, 0 to 39716\n",
      "Data columns (total 57 columns):\n",
      "id                            39717 non-null int64\n",
      "member_id                     39717 non-null int64\n",
      "loan_amnt                     39717 non-null int64\n",
      "funded_amnt                   39717 non-null int64\n",
      "funded_amnt_inv               39717 non-null float64\n",
      "term                          39717 non-null int64\n",
      "months                        39717 non-null object\n",
      "int_rate                      39717 non-null object\n",
      "installment                   39717 non-null float64\n",
      "grade                         39717 non-null object\n",
      "sub_grade                     39717 non-null object\n",
      "emp_title                     37258 non-null object\n",
      "emp_length                    38642 non-null object\n",
      "No of uears                   38642 non-null object\n",
      "home_ownership                39717 non-null object\n",
      "annual_inc                    39717 non-null float64\n",
      "verification_status           39717 non-null object\n",
      "issue_d                       39717 non-null object\n",
      "loan_status                   39717 non-null object\n",
      "pymnt_plan                    39717 non-null object\n",
      "url                           39717 non-null object\n",
      "purpose                       39717 non-null object\n",
      "title                         39706 non-null object\n",
      "zip_code                      39717 non-null object\n",
      "addr_state                    39717 non-null object\n",
      "dti                           39717 non-null float64\n",
      "delinq_2yrs                   39717 non-null int64\n",
      "earliest_cr_line              39717 non-null object\n",
      "inq_last_6mths                39717 non-null int64\n",
      "open_acc                      39717 non-null int64\n",
      "pub_rec                       39717 non-null int64\n",
      "revol_bal                     39717 non-null int64\n",
      "revol_util                    39667 non-null object\n",
      "total_acc                     39717 non-null int64\n",
      "initial_list_status           39717 non-null object\n",
      "out_prncp                     39717 non-null float64\n",
      "out_prncp_inv                 39717 non-null float64\n",
      "total_pymnt                   39717 non-null float64\n",
      "total_pymnt_inv               39717 non-null float64\n",
      "total_rec_prncp               39717 non-null float64\n",
      "total_rec_int                 39717 non-null float64\n",
      "total_rec_late_fee            39717 non-null float64\n",
      "recoveries                    39717 non-null float64\n",
      "collection_recovery_fee       39717 non-null float64\n",
      "last_pymnt_d                  39646 non-null object\n",
      "last_pymnt_amnt               39717 non-null float64\n",
      "last_credit_pull_d            39715 non-null object\n",
      "collections_12_mths_ex_med    39661 non-null float64\n",
      "policy_code                   39717 non-null int64\n",
      "application_type              39717 non-null object\n",
      "acc_now_delinq                39717 non-null int64\n",
      "chargeoff_within_12_mths      39661 non-null float64\n",
      "delinq_amnt                   39717 non-null int64\n",
      "pub_rec_bankruptcies          39020 non-null float64\n",
      "tax_liens                     39678 non-null float64\n",
      "HOME_N                        39717 non-null object\n",
      "LOAN_STAT_N                   39717 non-null int64\n",
      "dtypes: float64(18), int64(15), object(24)\n",
      "memory usage: 17.3+ MB\n"
     ]
    }
   ],
   "source": [
    "loan.info()"
   ]
  },
  {
   "cell_type": "code",
   "execution_count": 15,
   "metadata": {},
   "outputs": [],
   "source": [
    "# The column int_rate is character type, let's convert it to float\n",
    "loan['int_rate'] = loan['int_rate'].apply(lambda x: pd.to_numeric(x.split(\"%\")[0]))"
   ]
  },
  {
   "cell_type": "code",
   "execution_count": 16,
   "metadata": {},
   "outputs": [
    {
     "name": "stdout",
     "output_type": "stream",
     "text": [
      "<class 'pandas.core.frame.DataFrame'>\n",
      "RangeIndex: 39717 entries, 0 to 39716\n",
      "Data columns (total 57 columns):\n",
      "id                            39717 non-null int64\n",
      "member_id                     39717 non-null int64\n",
      "loan_amnt                     39717 non-null int64\n",
      "funded_amnt                   39717 non-null int64\n",
      "funded_amnt_inv               39717 non-null float64\n",
      "term                          39717 non-null int64\n",
      "months                        39717 non-null object\n",
      "int_rate                      39717 non-null float64\n",
      "installment                   39717 non-null float64\n",
      "grade                         39717 non-null object\n",
      "sub_grade                     39717 non-null object\n",
      "emp_title                     37258 non-null object\n",
      "emp_length                    38642 non-null object\n",
      "No of uears                   38642 non-null object\n",
      "home_ownership                39717 non-null object\n",
      "annual_inc                    39717 non-null float64\n",
      "verification_status           39717 non-null object\n",
      "issue_d                       39717 non-null object\n",
      "loan_status                   39717 non-null object\n",
      "pymnt_plan                    39717 non-null object\n",
      "url                           39717 non-null object\n",
      "purpose                       39717 non-null object\n",
      "title                         39706 non-null object\n",
      "zip_code                      39717 non-null object\n",
      "addr_state                    39717 non-null object\n",
      "dti                           39717 non-null float64\n",
      "delinq_2yrs                   39717 non-null int64\n",
      "earliest_cr_line              39717 non-null object\n",
      "inq_last_6mths                39717 non-null int64\n",
      "open_acc                      39717 non-null int64\n",
      "pub_rec                       39717 non-null int64\n",
      "revol_bal                     39717 non-null int64\n",
      "revol_util                    39667 non-null object\n",
      "total_acc                     39717 non-null int64\n",
      "initial_list_status           39717 non-null object\n",
      "out_prncp                     39717 non-null float64\n",
      "out_prncp_inv                 39717 non-null float64\n",
      "total_pymnt                   39717 non-null float64\n",
      "total_pymnt_inv               39717 non-null float64\n",
      "total_rec_prncp               39717 non-null float64\n",
      "total_rec_int                 39717 non-null float64\n",
      "total_rec_late_fee            39717 non-null float64\n",
      "recoveries                    39717 non-null float64\n",
      "collection_recovery_fee       39717 non-null float64\n",
      "last_pymnt_d                  39646 non-null object\n",
      "last_pymnt_amnt               39717 non-null float64\n",
      "last_credit_pull_d            39715 non-null object\n",
      "collections_12_mths_ex_med    39661 non-null float64\n",
      "policy_code                   39717 non-null int64\n",
      "application_type              39717 non-null object\n",
      "acc_now_delinq                39717 non-null int64\n",
      "chargeoff_within_12_mths      39661 non-null float64\n",
      "delinq_amnt                   39717 non-null int64\n",
      "pub_rec_bankruptcies          39020 non-null float64\n",
      "tax_liens                     39678 non-null float64\n",
      "HOME_N                        39717 non-null object\n",
      "LOAN_STAT_N                   39717 non-null int64\n",
      "dtypes: float64(19), int64(15), object(23)\n",
      "memory usage: 17.3+ MB\n"
     ]
    }
   ],
   "source": [
    "loan.info()"
   ]
  },
  {
   "cell_type": "code",
   "execution_count": 17,
   "metadata": {},
   "outputs": [],
   "source": [
    "# first, let's drop the missing values from the column (otherwise the regex code below throws error)\n",
    "loan = loan[~loan['emp_length'].isnull()]\n",
    "\n",
    "# using regular expression to extract numeric values from the string\n",
    "import re\n",
    "loan['emp_length'] = loan['emp_length'].apply(lambda x: re.findall('\\d+', str(x))[0])\n",
    "\n",
    "# convert to numeric\n",
    "loan['emp_length'] = loan['emp_length'].apply(lambda x: pd.to_numeric(x))"
   ]
  },
  {
   "cell_type": "code",
   "execution_count": 18,
   "metadata": {},
   "outputs": [
    {
     "name": "stdout",
     "output_type": "stream",
     "text": [
      "<class 'pandas.core.frame.DataFrame'>\n",
      "Int64Index: 38642 entries, 0 to 39716\n",
      "Data columns (total 57 columns):\n",
      "id                            38642 non-null int64\n",
      "member_id                     38642 non-null int64\n",
      "loan_amnt                     38642 non-null int64\n",
      "funded_amnt                   38642 non-null int64\n",
      "funded_amnt_inv               38642 non-null float64\n",
      "term                          38642 non-null int64\n",
      "months                        38642 non-null object\n",
      "int_rate                      38642 non-null float64\n",
      "installment                   38642 non-null float64\n",
      "grade                         38642 non-null object\n",
      "sub_grade                     38642 non-null object\n",
      "emp_title                     37202 non-null object\n",
      "emp_length                    38642 non-null int64\n",
      "No of uears                   38642 non-null object\n",
      "home_ownership                38642 non-null object\n",
      "annual_inc                    38642 non-null float64\n",
      "verification_status           38642 non-null object\n",
      "issue_d                       38642 non-null object\n",
      "loan_status                   38642 non-null object\n",
      "pymnt_plan                    38642 non-null object\n",
      "url                           38642 non-null object\n",
      "purpose                       38642 non-null object\n",
      "title                         38632 non-null object\n",
      "zip_code                      38642 non-null object\n",
      "addr_state                    38642 non-null object\n",
      "dti                           38642 non-null float64\n",
      "delinq_2yrs                   38642 non-null int64\n",
      "earliest_cr_line              38642 non-null object\n",
      "inq_last_6mths                38642 non-null int64\n",
      "open_acc                      38642 non-null int64\n",
      "pub_rec                       38642 non-null int64\n",
      "revol_bal                     38642 non-null int64\n",
      "revol_util                    38595 non-null object\n",
      "total_acc                     38642 non-null int64\n",
      "initial_list_status           38642 non-null object\n",
      "out_prncp                     38642 non-null float64\n",
      "out_prncp_inv                 38642 non-null float64\n",
      "total_pymnt                   38642 non-null float64\n",
      "total_pymnt_inv               38642 non-null float64\n",
      "total_rec_prncp               38642 non-null float64\n",
      "total_rec_int                 38642 non-null float64\n",
      "total_rec_late_fee            38642 non-null float64\n",
      "recoveries                    38642 non-null float64\n",
      "collection_recovery_fee       38642 non-null float64\n",
      "last_pymnt_d                  38576 non-null object\n",
      "last_pymnt_amnt               38642 non-null float64\n",
      "last_credit_pull_d            38640 non-null object\n",
      "collections_12_mths_ex_med    38586 non-null float64\n",
      "policy_code                   38642 non-null int64\n",
      "application_type              38642 non-null object\n",
      "acc_now_delinq                38642 non-null int64\n",
      "chargeoff_within_12_mths      38586 non-null float64\n",
      "delinq_amnt                   38642 non-null int64\n",
      "pub_rec_bankruptcies          37945 non-null float64\n",
      "tax_liens                     38603 non-null float64\n",
      "HOME_N                        38642 non-null object\n",
      "LOAN_STAT_N                   38642 non-null int64\n",
      "dtypes: float64(19), int64(16), object(22)\n",
      "memory usage: 17.1+ MB\n"
     ]
    }
   ],
   "source": [
    " #looking at type of the columns again\n",
    "loan.info()"
   ]
  },
  {
   "cell_type": "code",
   "execution_count": 19,
   "metadata": {},
   "outputs": [
    {
     "data": {
      "text/plain": [
       "['delinq_2yrs',\n",
       " 'earliest_cr_line',\n",
       " 'inq_last_6mths',\n",
       " 'open_acc',\n",
       " 'pub_rec',\n",
       " 'revol_bal',\n",
       " 'revol_util',\n",
       " 'total_acc',\n",
       " 'out_prncp',\n",
       " 'out_prncp_inv',\n",
       " 'total_pymnt',\n",
       " 'total_pymnt_inv',\n",
       " 'total_rec_prncp',\n",
       " 'total_rec_int',\n",
       " 'total_rec_late_fee',\n",
       " 'recoveries',\n",
       " 'collection_recovery_fee',\n",
       " 'last_pymnt_d',\n",
       " 'last_pymnt_amnt',\n",
       " 'last_credit_pull_d',\n",
       " 'application_type']"
      ]
     },
     "execution_count": 19,
     "metadata": {},
     "output_type": "execute_result"
    }
   ],
   "source": [
    "#DATA ANALYSIS\n",
    "#The objective is to identify predictors of default so that at the time of loan application, we can use those variables for approval/rejection of the loan. Now, there are broadly three types of variables\n",
    "#- 1. those which are related to the applicant (demographic variables such as age, occupation, employment details etc.),\n",
    "#2. loan characteristics (amount of loan, interest rate, purpose of loan etc.) and\n",
    "#3. Customer behaviour variables (those which are generated after the loan is approved such as delinquent 2 years, revolving balance, next payment date etc.).\n",
    "#Now, the customer behaviour variables are not available at the time of loan application, and thus they cannot be used as predictors for credit approval.\n",
    "\n",
    "#Thus removing behaviour variables from analysis\n",
    "behaviour_var =  [\n",
    "  \"delinq_2yrs\",\n",
    "  \"earliest_cr_line\",\n",
    "  \"inq_last_6mths\",\n",
    "  \"open_acc\",\n",
    "  \"pub_rec\",\n",
    "  \"revol_bal\",\n",
    "  \"revol_util\",\n",
    "  \"total_acc\",\n",
    "  \"out_prncp\",\n",
    "  \"out_prncp_inv\",\n",
    "  \"total_pymnt\",\n",
    "  \"total_pymnt_inv\",\n",
    "  \"total_rec_prncp\",\n",
    "  \"total_rec_int\",\n",
    "  \"total_rec_late_fee\",\n",
    "  \"recoveries\",\n",
    "  \"collection_recovery_fee\",\n",
    "  \"last_pymnt_d\",\n",
    "  \"last_pymnt_amnt\",\n",
    "  \"last_credit_pull_d\",\n",
    "  \"application_type\"]\n",
    "behaviour_var"
   ]
  },
  {
   "cell_type": "code",
   "execution_count": 20,
   "metadata": {},
   "outputs": [
    {
     "name": "stdout",
     "output_type": "stream",
     "text": [
      "<class 'pandas.core.frame.DataFrame'>\n",
      "Int64Index: 38642 entries, 0 to 39716\n",
      "Data columns (total 36 columns):\n",
      "id                            38642 non-null int64\n",
      "member_id                     38642 non-null int64\n",
      "loan_amnt                     38642 non-null int64\n",
      "funded_amnt                   38642 non-null int64\n",
      "funded_amnt_inv               38642 non-null float64\n",
      "term                          38642 non-null int64\n",
      "months                        38642 non-null object\n",
      "int_rate                      38642 non-null float64\n",
      "installment                   38642 non-null float64\n",
      "grade                         38642 non-null object\n",
      "sub_grade                     38642 non-null object\n",
      "emp_title                     37202 non-null object\n",
      "emp_length                    38642 non-null int64\n",
      "No of uears                   38642 non-null object\n",
      "home_ownership                38642 non-null object\n",
      "annual_inc                    38642 non-null float64\n",
      "verification_status           38642 non-null object\n",
      "issue_d                       38642 non-null object\n",
      "loan_status                   38642 non-null object\n",
      "pymnt_plan                    38642 non-null object\n",
      "url                           38642 non-null object\n",
      "purpose                       38642 non-null object\n",
      "title                         38632 non-null object\n",
      "zip_code                      38642 non-null object\n",
      "addr_state                    38642 non-null object\n",
      "dti                           38642 non-null float64\n",
      "initial_list_status           38642 non-null object\n",
      "collections_12_mths_ex_med    38586 non-null float64\n",
      "policy_code                   38642 non-null int64\n",
      "acc_now_delinq                38642 non-null int64\n",
      "chargeoff_within_12_mths      38586 non-null float64\n",
      "delinq_amnt                   38642 non-null int64\n",
      "pub_rec_bankruptcies          37945 non-null float64\n",
      "tax_liens                     38603 non-null float64\n",
      "HOME_N                        38642 non-null object\n",
      "LOAN_STAT_N                   38642 non-null int64\n",
      "dtypes: float64(9), int64(10), object(17)\n",
      "memory usage: 10.9+ MB\n"
     ]
    }
   ],
   "source": [
    "df = loan.drop(behaviour_var, axis=1)\n",
    "df.info()"
   ]
  },
  {
   "cell_type": "code",
   "execution_count": 21,
   "metadata": {},
   "outputs": [],
   "source": [
    "# also, we will not be able to use the variables zip code, address, state etc.\n",
    "df = df.drop(['title', 'url', 'zip_code', 'addr_state'], axis=1)"
   ]
  },
  {
   "cell_type": "code",
   "execution_count": 22,
   "metadata": {},
   "outputs": [
    {
     "data": {
      "text/plain": [
       "Fully Paid     32145\n",
       "Charged Off     5399\n",
       "Current         1098\n",
       "Name: loan_status, dtype: int64"
      ]
     },
     "execution_count": 22,
     "metadata": {},
     "output_type": "execute_result"
    }
   ],
   "source": [
    "#We need to relabel the values to a binary form - 0 or 1, 1 indicating that the person has defaulted and 0 otherwise.\n",
    "df['loan_status'] = df['loan_status'].astype('category')\n",
    "df['loan_status'].value_counts()"
   ]
  },
  {
   "cell_type": "code",
   "execution_count": 23,
   "metadata": {},
   "outputs": [
    {
     "data": {
      "text/plain": [
       "0    32145\n",
       "1     5399\n",
       "Name: loan_status, dtype: int64"
      ]
     },
     "execution_count": 23,
     "metadata": {},
     "output_type": "execute_result"
    }
   ],
   "source": [
    "# filtering only fully paid or chargedoff\n",
    "df = df[df['loan_status'] != 'Current']\n",
    "df['loan_status'] = df['loan_status'].apply(lambda x: 0 if x=='Fully Paid' else 1)\n",
    "\n",
    "# converting loan_status to integer type\n",
    "df['loan_status'] = df['loan_status'].apply(lambda x: pd.to_numeric(x))\n",
    "\n",
    "# summarising the values\n",
    "df['loan_status'].value_counts()"
   ]
  },
  {
   "cell_type": "code",
   "execution_count": 24,
   "metadata": {},
   "outputs": [
    {
     "name": "stderr",
     "output_type": "stream",
     "text": [
      "C:\\Users\\dell\\Anaconda3\\lib\\site-packages\\scipy\\stats\\stats.py:1713: FutureWarning: Using a non-tuple sequence for multidimensional indexing is deprecated; use `arr[tuple(seq)]` instead of `arr[seq]`. In the future this will be interpreted as an array index, `arr[np.array(seq)]`, which will result either in an error or a different result.\n",
      "  return np.add.reduce(sorted[indexer] * weights, axis=axis) / sumval\n"
     ]
    },
    {
     "data": {
      "image/png": "[encoded data removed]",
      "text/plain": [
       "<Figure size 432x288 with 1 Axes>"
      ]
     },
     "metadata": {
      "needs_background": "light"
     },
     "output_type": "display_data"
    }
   ],
   "source": [
    "# Univariate and bivariate analysis \n",
    "# plotting default rates across grade of the loan\n",
    "sns.barplot(x='grade', y='loan_status', data=df)\n",
    "plt.show()\n"
   ]
  },
  {
   "cell_type": "code",
   "execution_count": 25,
   "metadata": {},
   "outputs": [
    {
     "data": {
      "text/plain": [
       "0.14"
      ]
     },
     "execution_count": 25,
     "metadata": {},
     "output_type": "execute_result"
    }
   ],
   "source": [
    "# default rate\n",
    "round(np.mean(df['loan_status']), 2)\n",
    "# Thus overall rate is 14%"
   ]
  },
  {
   "cell_type": "code",
   "execution_count": 27,
   "metadata": {},
   "outputs": [],
   "source": [
    "# lets define a function to plot loan_status across categorical variables\n",
    "def plot_cat(cat_var):\n",
    "    sns.barplot(x=cat_var, y='loan_status', data=df)\n",
    "    plt.show()\n",
    "\n"
   ]
  },
  {
   "cell_type": "code",
   "execution_count": 28,
   "metadata": {},
   "outputs": [
    {
     "data": {
      "image/png": "[encoded data removed]",
      "text/plain": [
       "<Figure size 432x288 with 1 Axes>"
      ]
     },
     "metadata": {
      "needs_background": "light"
     },
     "output_type": "display_data"
    }
   ],
   "source": [
    " #compare default rates across grade of loan\n",
    "plot_cat('grade')"
   ]
  },
  {
   "cell_type": "code",
   "execution_count": 29,
   "metadata": {},
   "outputs": [
    {
     "data": {
      "image/png": "[encoded data removed]",
      "text/plain": [
       "<Figure size 432x288 with 1 Axes>"
      ]
     },
     "metadata": {
      "needs_background": "light"
     },
     "output_type": "display_data"
    }
   ],
   "source": [
    "# home ownership\n",
    "plot_cat('home_ownership')"
   ]
  },
  {
   "cell_type": "code",
   "execution_count": 30,
   "metadata": {},
   "outputs": [
    {
     "data": {
      "image/png": "[encoded data removed]",
      "text/plain": [
       "<Figure size 1296x432 with 1 Axes>"
      ]
     },
     "metadata": {
      "needs_background": "light"
     },
     "output_type": "display_data"
    }
   ],
   "source": [
    "# purpose: small business loans default the most, then renewable energy and education\n",
    "plt.figure(figsize=(18, 6))\n",
    "plot_cat('purpose')"
   ]
  },
  {
   "cell_type": "code",
   "execution_count": 31,
   "metadata": {},
   "outputs": [
    {
     "data": {
      "text/plain": [
       "0    11-Dec\n",
       "1    11-Dec\n",
       "2    11-Dec\n",
       "3    11-Dec\n",
       "5    11-Dec\n",
       "Name: issue_d, dtype: object"
      ]
     },
     "execution_count": 31,
     "metadata": {},
     "output_type": "execute_result"
    }
   ],
   "source": [
    "# let's also observe the distribution of loans across years\n",
    "# first lets convert the year column into datetime and then extract year and month from it\n",
    "df['issue_d'].head()"
   ]
  },
  {
   "cell_type": "code",
   "execution_count": 23,
   "metadata": {},
   "outputs": [],
   "source": [
    "from datetime import datetime\n",
    "df['issue_d'] = df['issue_d'].apply(lambda x: datetime.strptime(x, '%b-%y'))"
   ]
  },
  {
   "cell_type": "code",
   "execution_count": 24,
   "metadata": {},
   "outputs": [],
   "source": [
    "df['month'] = df['issue_d'].apply(lambda x: x.month)\n",
    "df['year'] = df['issue_d'].apply(lambda x: x.year)\n"
   ]
  },
  {
   "cell_type": "code",
   "execution_count": 25,
   "metadata": {},
   "outputs": [
    {
     "data": {
      "text/plain": [
       "year\n",
       "2007      251\n",
       "2008     1562\n",
       "2009     4716\n",
       "2010    11532\n",
       "2011    20516\n",
       "Name: year, dtype: int64"
      ]
     },
     "execution_count": 25,
     "metadata": {},
     "output_type": "execute_result"
    }
   ],
   "source": [
    " #let's first observe the number of loans granted across years\n",
    "df.groupby('year').year.count()"
   ]
  },
  {
   "cell_type": "code",
   "execution_count": 26,
   "metadata": {},
   "outputs": [
    {
     "data": {
      "text/plain": [
       "month\n",
       "1     2379\n",
       "2     2358\n",
       "3     2691\n",
       "4     2831\n",
       "5     2919\n",
       "6     3180\n",
       "7     3351\n",
       "8     3388\n",
       "9     3498\n",
       "10    3761\n",
       "11    4006\n",
       "12    4215\n",
       "Name: month, dtype: int64"
      ]
     },
     "execution_count": 26,
     "metadata": {},
     "output_type": "execute_result"
    }
   ],
   "source": [
    "# number of loans across months\n",
    "df.groupby('month').month.count()"
   ]
  },
  {
   "cell_type": "code",
   "execution_count": 27,
   "metadata": {},
   "outputs": [
    {
     "data": {
      "image/png": "[encoded data removed]",
      "text/plain": [
       "<Figure size 432x288 with 1 Axes>"
      ]
     },
     "metadata": {
      "needs_background": "light"
     },
     "output_type": "display_data"
    }
   ],
   "source": [
    "plot_cat('year')\n"
   ]
  },
  {
   "cell_type": "code",
   "execution_count": 32,
   "metadata": {},
   "outputs": [
    {
     "data": {
      "text/plain": [
       "count    37544.000000\n",
       "mean     11119.329986\n",
       "std       7354.098954\n",
       "min        500.000000\n",
       "25%       5500.000000\n",
       "50%      10000.000000\n",
       "75%      15000.000000\n",
       "max      35000.000000\n",
       "Name: loan_amnt, dtype: float64"
      ]
     },
     "execution_count": 32,
     "metadata": {},
     "output_type": "execute_result"
    }
   ],
   "source": [
    "df['loan_amnt'].describe()"
   ]
  },
  {
   "cell_type": "code",
   "execution_count": 33,
   "metadata": {},
   "outputs": [
    {
     "data": {
      "image/png": "[encoded data removed]",
      "text/plain": [
       "<Figure size 432x288 with 1 Axes>"
      ]
     },
     "metadata": {
      "needs_background": "light"
     },
     "output_type": "display_data"
    }
   ],
   "source": [
    "# loan amount: the median loan amount is around 10,000\n",
    "sns.distplot(df['loan_amnt'])\n",
    "plt.show()"
   ]
  },
  {
   "cell_type": "code",
   "execution_count": 34,
   "metadata": {},
   "outputs": [
    {
     "data": {
      "text/plain": [
       "<matplotlib.axes._subplots.AxesSubplot at 0x2c3b2aedeb8>"
      ]
     },
     "execution_count": 34,
     "metadata": {},
     "output_type": "execute_result"
    },
    {
     "data": {
      "image/png": "[encoded data removed]",
      "text/plain": [
       "<Figure size 432x288 with 1 Axes>"
      ]
     },
     "metadata": {
      "needs_background": "light"
     },
     "output_type": "display_data"
    }
   ],
   "source": [
    "#  taking  log scale of  loan amount before removing outlier\n",
    "target1=np.log(df[\"loan_amnt\"])\n",
    "sns.distplot(target1)"
   ]
  },
  {
   "cell_type": "code",
   "execution_count": 36,
   "metadata": {},
   "outputs": [
    {
     "data": {
      "text/plain": [
       "count    3.754400e+04\n",
       "mean     6.940708e+04\n",
       "std      6.467698e+04\n",
       "min      4.000000e+03\n",
       "25%      4.100000e+04\n",
       "50%      6.000000e+04\n",
       "75%      8.300000e+04\n",
       "max      6.000000e+06\n",
       "Name: annual_inc, dtype: float64"
      ]
     },
     "execution_count": 36,
     "metadata": {},
     "output_type": "execute_result"
    }
   ],
   "source": [
    "#Univariate Analysis of annual income\n",
    "df['annual_inc'].describe()"
   ]
  },
  {
   "cell_type": "code",
   "execution_count": 38,
   "metadata": {},
   "outputs": [
    {
     "name": "stderr",
     "output_type": "stream",
     "text": [
      "C:\\Users\\dell\\Anaconda3\\lib\\site-packages\\scipy\\stats\\stats.py:1713: FutureWarning: Using a non-tuple sequence for multidimensional indexing is deprecated; use `arr[tuple(seq)]` instead of `arr[seq]`. In the future this will be interpreted as an array index, `arr[np.array(seq)]`, which will result either in an error or a different result.\n",
      "  return np.add.reduce(sorted[indexer] * weights, axis=axis) / sumval\n"
     ]
    },
    {
     "data": {
      "text/plain": [
       "<matplotlib.axes._subplots.AxesSubplot at 0x2c3b58a08d0>"
      ]
     },
     "execution_count": 38,
     "metadata": {},
     "output_type": "execute_result"
    },
    {
     "data": {
      "image/png": "[encoded data removed]",
      "text/plain": [
       "<Figure size 432x288 with 1 Axes>"
      ]
     },
     "metadata": {
      "needs_background": "light"
     },
     "output_type": "display_data"
    }
   ],
   "source": [
    "#Univariate Analysis  of Annula Income\n",
    "sns.distplot(df[\"annual_inc\"])"
   ]
  },
  {
   "cell_type": "code",
   "execution_count": 39,
   "metadata": {},
   "outputs": [
    {
     "data": {
      "text/plain": [
       "<matplotlib.axes._subplots.AxesSubplot at 0x2c3b58c6da0>"
      ]
     },
     "execution_count": 39,
     "metadata": {},
     "output_type": "execute_result"
    },
    {
     "data": {
      "image/png": "[encoded data removed]",
      "text/plain": [
       "<Figure size 432x288 with 1 Axes>"
      ]
     },
     "metadata": {
      "needs_background": "light"
     },
     "output_type": "display_data"
    }
   ],
   "source": [
    "#  taking  log scale of  annual income before removing outlier\n",
    "target2=np.log(df[\"annual_inc\"])\n",
    "sns.distplot(target2)"
   ]
  },
  {
   "cell_type": "code",
   "execution_count": 40,
   "metadata": {},
   "outputs": [
    {
     "name": "stdout",
     "output_type": "stream",
     "text": [
      "198761.0491996672\n"
     ]
    }
   ],
   "source": [
    "# getting outlier in annula income data.\n",
    "df3=df[\"annual_inc\"].mean()- 2* df[\"annual_inc\"].std()\n",
    "df3=df[\"annual_inc\"].mean()+ 2* df[\"annual_inc\"].std()\n",
    "print(df3)"
   ]
  },
  {
   "cell_type": "code",
   "execution_count": 41,
   "metadata": {},
   "outputs": [
    {
     "data": {
      "text/plain": [
       "count     33729.000000\n",
       "mean      63848.616190\n",
       "std       26539.892711\n",
       "min       24044.000000\n",
       "25%       43000.000000\n",
       "50%       60000.000000\n",
       "75%       80000.000000\n",
       "max      141996.000000\n",
       "Name: annual_inc, dtype: float64"
      ]
     },
     "execution_count": 41,
     "metadata": {},
     "output_type": "execute_result"
    }
   ],
   "source": [
    "# removing outlier from annula income\n",
    "P = np.percentile(df.annual_inc, [5, 95])\n",
    "new_df = df[(df.annual_inc > P[0]) & (df.annual_inc < P[1])]\n",
    "new_df['annual_inc'].describe()"
   ]
  },
  {
   "cell_type": "code",
   "execution_count": 42,
   "metadata": {},
   "outputs": [
    {
     "data": {
      "text/plain": [
       "<matplotlib.axes._subplots.AxesSubplot at 0x2c3b2c15da0>"
      ]
     },
     "execution_count": 42,
     "metadata": {},
     "output_type": "execute_result"
    },
    {
     "data": {
      "image/png": "[encoded data removed]",
      "text/plain": [
       "<Figure size 432x288 with 1 Axes>"
      ]
     },
     "metadata": {
      "needs_background": "light"
     },
     "output_type": "display_data"
    }
   ],
   "source": [
    "#plotting  chart for annual income after removing outlier\n",
    "import seaborn as sns\n",
    "sns.distplot(new_df[\"annual_inc\"])"
   ]
  },
  {
   "cell_type": "code",
   "execution_count": 43,
   "metadata": {},
   "outputs": [
    {
     "data": {
      "text/plain": [
       "<matplotlib.axes._subplots.AxesSubplot at 0x2c3b27afd30>"
      ]
     },
     "execution_count": 43,
     "metadata": {},
     "output_type": "execute_result"
    },
    {
     "data": {
      "image/png": "[encoded data removed]",
      "text/plain": [
       "<Figure size 432x288 with 1 Axes>"
      ]
     },
     "metadata": {
      "needs_background": "light"
     },
     "output_type": "display_data"
    }
   ],
   "source": [
    "#    log scale of  annual income after removing outlier\n",
    "target4=np.log(new_df[\"annual_inc\"])\n",
    "sns.distplot(target4)"
   ]
  },
  {
   "cell_type": "code",
   "execution_count": 35,
   "metadata": {},
   "outputs": [
    {
     "data": {
      "text/plain": [
       "<matplotlib.axes._subplots.AxesSubplot at 0x2c3b2d22ef0>"
      ]
     },
     "execution_count": 35,
     "metadata": {},
     "output_type": "execute_result"
    },
    {
     "data": {
      "image/png": "[encoded data removed]",
      "text/plain": [
       "<Figure size 432x288 with 1 Axes>"
      ]
     },
     "metadata": {
      "needs_background": "light"
     },
     "output_type": "display_data"
    }
   ],
   "source": [
    "#Univariate Analysis  of loan amount\n",
    "sns.distplot(df[\"loan_amnt\"])"
   ]
  },
  {
   "cell_type": "code",
   "execution_count": null,
   "metadata": {},
   "outputs": [],
   "source": [
    "#  taking  log scale of  annual income before removing outlier\n",
    "target1=np.log(df_loan2[\"loan_amnt\"])\n",
    "sns.distplot(target1)"
   ]
  },
  {
   "cell_type": "code",
   "execution_count": 44,
   "metadata": {},
   "outputs": [
    {
     "name": "stdout",
     "output_type": "stream",
     "text": [
      "            id  member_id  loan_amnt  funded_amnt  funded_amnt_inv  term  \\\n",
      "1      1077430    1314167       2500         2500       2500.00000    60   \n",
      "3      1076863    1277178      10000        10000      10000.00000    36   \n",
      "5      1075269    1311441       5000         5000       5000.00000    36   \n",
      "6      1069639    1304742       7000         7000       7000.00000    60   \n",
      "7      1072053    1288686       3000         3000       3000.00000    36   \n",
      "8      1071795    1306957       5600         5600       5600.00000    60   \n",
      "10     1070078    1305201       6500         6500       6500.00000    60   \n",
      "11     1069908    1305008      12000        12000      12000.00000    36   \n",
      "12     1064687    1298717       9000         9000       9000.00000    36   \n",
      "14     1069057    1303503      10000        10000      10000.00000    36   \n",
      "15     1069759    1304871       1000         1000       1000.00000    36   \n",
      "16     1065775    1299699      10000        10000      10000.00000    36   \n",
      "17     1069971    1304884       3600         3600       3600.00000    36   \n",
      "18     1062474    1294539       6000         6000       6000.00000    36   \n",
      "19     1069742    1304855       9200         9200       9200.00000    36   \n",
      "20     1069740    1284848      20250        20250      19142.16108    60   \n",
      "21     1039153    1269083      21000        21000      21000.00000    36   \n",
      "22     1069710    1304821      10000        10000      10000.00000    36   \n",
      "23     1069700    1304810      10000        10000      10000.00000    36   \n",
      "24     1069559    1304634       6000         6000       6000.00000    36   \n",
      "25     1069697    1273773      15000        15000      15000.00000    36   \n",
      "26     1069800    1304679      15000        15000       8725.00000    36   \n",
      "27     1069657    1304764       5000         5000       5000.00000    60   \n",
      "28     1069799    1304678       4000         4000       4000.00000    36   \n",
      "29     1047704    1278806       8500         8500       8500.00000    36   \n",
      "31     1069539    1304608      31825        31825      31825.00000    36   \n",
      "33     1069591    1304289       5000         5000       5000.00000    36   \n",
      "34     1069530    1291365       7000         7000       7000.00000    36   \n",
      "35     1069522    1304589      12400        12400      12400.00000    36   \n",
      "36     1069361    1304255      10800        10800      10800.00000    36   \n",
      "...        ...        ...        ...          ...              ...   ...   \n",
      "39672   117249     116607       5000         5000       1300.00000    36   \n",
      "39674   116582     116502      10000        10000        975.00000    36   \n",
      "39675   116040     116037       5000         5000        775.00000    36   \n",
      "39677   113194     113115       3500         3500       1725.00000    36   \n",
      "39678   113179     113093       1000         1000        950.00000    36   \n",
      "39679   113156     113146       3500         3500       3500.00000    36   \n",
      "39680   112496     112493       3000         3000        525.00000    36   \n",
      "39682    99009      98991       5750         5750       3675.00000    36   \n",
      "39683   112245     112227       5000         5000       3975.00000    36   \n",
      "39684   112216     106279      12000        12000       1025.00000    36   \n",
      "39685   100214     100208       5000         5000       3675.00000    36   \n",
      "39686   111917     111912       6400         6400       4075.00000    36   \n",
      "39687   111307     105982      12000        12000       2500.00000    36   \n",
      "39690   107136     107130      12250        12250       1525.00000    36   \n",
      "39691   106360     106333       2700         2700        550.00000    36   \n",
      "39695    92440      92423       5000         5000       3100.00000    36   \n",
      "39696   102376      95212      25000        25000        525.00000    36   \n",
      "39697   101579     100083      10000        10000        400.00000    36   \n",
      "39698    98982      98957       5000         5000        675.00000    36   \n",
      "39699    98339      97572       5100         5100        575.00000    36   \n",
      "39701    96844      95222       5300         5300        600.00000    36   \n",
      "39702    96350      96338       5000         5000        850.00000    36   \n",
      "39704    93277      93254       3000         3000        950.00000    36   \n",
      "39705    93061      93057       5000         5000        250.00000    36   \n",
      "39708    92552      92542       5000         5000        375.00000    36   \n",
      "39709    92533      92529       5000         5000        675.00000    36   \n",
      "39710    92507      92502       5000         5000        250.00000    36   \n",
      "39711    92402      92390       5000         5000        700.00000    36   \n",
      "39712    92187      92174       2500         2500       1075.00000    36   \n",
      "39714    90395      90390       5000         5000       1325.00000    36   \n",
      "\n",
      "       int_rate  installment  emp_length  annual_inc  loan_status    dti  \\\n",
      "1         15.27        59.83           1    30000.00            1   1.00   \n",
      "3         13.49       339.31          10    49200.00            0  20.00   \n",
      "5          7.90       156.46           3    36000.00            0  11.20   \n",
      "6         15.96       170.08           8    47004.00            0  23.51   \n",
      "7         18.64       109.43           9    48000.00            0   5.35   \n",
      "8         21.28       152.39           4    40000.00            1   5.55   \n",
      "10        14.65       153.45           5    72000.00            0  16.12   \n",
      "11        12.69       402.54          10    75000.00            0  10.78   \n",
      "12        13.49       305.38           1    30000.00            1  10.08   \n",
      "14        10.65       325.74           3   100000.00            1   7.06   \n",
      "15        16.29        35.31           1    28000.00            0  20.31   \n",
      "16        15.27       347.98           4    42000.00            0  18.60   \n",
      "17         6.03       109.57          10   110000.00            0  10.52   \n",
      "18        11.71       198.46           1    84000.00            0  18.44   \n",
      "19         6.03       280.01           6    77385.19            0   9.86   \n",
      "20        15.27       484.63           3    43370.00            0  26.53   \n",
      "21        12.42       701.73          10   105000.00            1  13.22   \n",
      "22        11.71       330.76          10    50000.00            0  11.18   \n",
      "23        11.71       330.76           5    50000.00            0  16.01   \n",
      "24        11.71       198.46           1    76000.00            1   2.40   \n",
      "25         9.91       483.38           2    92000.00            0  29.44   \n",
      "26        14.27       514.64           9    60000.00            1  15.22   \n",
      "27        16.77       123.65           2    50004.00            1  13.97   \n",
      "28        11.71       132.31          10   106000.00            0   5.63   \n",
      "29        11.71       281.15           1    25000.00            0  12.19   \n",
      "31         7.90       995.82           5    75000.00            0  14.03   \n",
      "33         8.90       158.77           2    24044.00            0  11.93   \n",
      "34        15.96       245.97           7    34000.00            0   6.35   \n",
      "35        10.65       403.91          10    41000.00            0  11.80   \n",
      "36         9.91       348.03           2    55596.00            0   5.50   \n",
      "...         ...          ...         ...         ...          ...    ...   \n",
      "39672      7.43       155.38           1    70000.00            0   4.56   \n",
      "39674     13.75       340.57           1    35000.00            0  17.38   \n",
      "39675      9.64       160.51           3   130000.00            0   8.55   \n",
      "39677      9.96       112.87           1    78000.00            0  11.06   \n",
      "39678     10.59        32.55           2    33990.00            1  14.47   \n",
      "39679      8.07       109.79           5    98000.00            0   8.52   \n",
      "39680     11.86        99.44           2    36153.00            0   7.47   \n",
      "39682      7.43       178.69          10   125000.00            0   0.27   \n",
      "39683      7.43       155.38           6    40000.00            0   2.55   \n",
      "39684     11.86       397.75           1    65000.00            0   7.14   \n",
      "39685      7.43       155.38           1    45000.00            0   1.12   \n",
      "39686      9.64       205.45           1    60000.00            0   7.72   \n",
      "39687     12.49       401.37           9    75000.00            0  15.00   \n",
      "39690     10.59       398.69           3    60000.00            0  17.12   \n",
      "39691     15.96        94.88           1    52200.00            0  12.57   \n",
      "39695      7.43       155.38           7    95000.00            0   3.83   \n",
      "39696     10.59       813.65           2    48000.00            0   4.05   \n",
      "39697     10.28       323.98           1    27376.00            0  10.70   \n",
      "39698      9.01       159.03           1    73000.00            0   9.96   \n",
      "39699      8.38       160.72           4    32000.00            0  14.78   \n",
      "39701      8.38       167.02           7    74000.00            0  14.37   \n",
      "39702     11.22       164.23           1    30000.00            0  18.64   \n",
      "39704      8.70        94.98           1    25000.00            0  14.54   \n",
      "39705      7.43       155.38           8   120000.00            0   2.29   \n",
      "39708      9.96       161.25           4    48000.00            0   8.03   \n",
      "39709     11.22       164.23           1    80000.00            0   1.21   \n",
      "39710      7.43       155.38           1    85000.00            0   0.31   \n",
      "39711      8.70       158.30           5    75000.00            0  15.55   \n",
      "39712      8.07        78.42           4   110000.00            0  11.33   \n",
      "39714      8.07       156.84           1   100000.00            0   2.30   \n",
      "\n",
      "       collections_12_mths_ex_med  policy_code  acc_now_delinq  \\\n",
      "1                             0.0            1               0   \n",
      "3                             0.0            1               0   \n",
      "5                             0.0            1               0   \n",
      "6                             0.0            1               0   \n",
      "7                             0.0            1               0   \n",
      "8                             0.0            1               0   \n",
      "10                            0.0            1               0   \n",
      "11                            0.0            1               0   \n",
      "12                            0.0            1               0   \n",
      "14                            0.0            1               0   \n",
      "15                            0.0            1               0   \n",
      "16                            0.0            1               0   \n",
      "17                            0.0            1               0   \n",
      "18                            0.0            1               0   \n",
      "19                            0.0            1               0   \n",
      "20                            0.0            1               0   \n",
      "21                            0.0            1               0   \n",
      "22                            0.0            1               0   \n",
      "23                            0.0            1               0   \n",
      "24                            0.0            1               0   \n",
      "25                            0.0            1               0   \n",
      "26                            0.0            1               0   \n",
      "27                            0.0            1               0   \n",
      "28                            0.0            1               0   \n",
      "29                            0.0            1               0   \n",
      "31                            0.0            1               0   \n",
      "33                            0.0            1               0   \n",
      "34                            0.0            1               0   \n",
      "35                            0.0            1               0   \n",
      "36                            0.0            1               0   \n",
      "...                           ...          ...             ...   \n",
      "39672                         NaN            1               0   \n",
      "39674                         NaN            1               0   \n",
      "39675                         NaN            1               0   \n",
      "39677                         NaN            1               0   \n",
      "39678                         NaN            1               0   \n",
      "39679                         NaN            1               0   \n",
      "39680                         NaN            1               0   \n",
      "39682                         NaN            1               0   \n",
      "39683                         NaN            1               0   \n",
      "39684                         NaN            1               0   \n",
      "39685                         NaN            1               0   \n",
      "39686                         NaN            1               0   \n",
      "39687                         NaN            1               0   \n",
      "39690                         NaN            1               0   \n",
      "39691                         NaN            1               0   \n",
      "39695                         NaN            1               0   \n",
      "39696                         NaN            1               0   \n",
      "39697                         NaN            1               0   \n",
      "39698                         NaN            1               0   \n",
      "39699                         NaN            1               0   \n",
      "39701                         NaN            1               0   \n",
      "39702                         NaN            1               0   \n",
      "39704                         NaN            1               0   \n",
      "39705                         NaN            1               0   \n",
      "39708                         NaN            1               0   \n",
      "39709                         NaN            1               0   \n",
      "39710                         NaN            1               0   \n",
      "39711                         NaN            1               0   \n",
      "39712                         NaN            1               0   \n",
      "39714                         NaN            1               0   \n",
      "\n",
      "       chargeoff_within_12_mths  delinq_amnt  pub_rec_bankruptcies  tax_liens  \\\n",
      "1                           0.0            0                   0.0        0.0   \n",
      "3                           0.0            0                   0.0        0.0   \n",
      "5                           0.0            0                   0.0        0.0   \n",
      "6                           0.0            0                   0.0        0.0   \n",
      "7                           0.0            0                   0.0        0.0   \n",
      "8                           0.0            0                   0.0        0.0   \n",
      "10                          0.0            0                   0.0        0.0   \n",
      "11                          0.0            0                   0.0        0.0   \n",
      "12                          0.0            0                   0.0        0.0   \n",
      "14                          0.0            0                   0.0        0.0   \n",
      "15                          0.0            0                   0.0        0.0   \n",
      "16                          0.0            0                   0.0        0.0   \n",
      "17                          0.0            0                   0.0        0.0   \n",
      "18                          0.0            0                   0.0        0.0   \n",
      "19                          0.0            0                   0.0        0.0   \n",
      "20                          0.0            0                   0.0        0.0   \n",
      "21                          0.0            0                   0.0        0.0   \n",
      "22                          0.0            0                   0.0        0.0   \n",
      "23                          0.0            0                   0.0        0.0   \n",
      "24                          0.0            0                   0.0        0.0   \n",
      "25                          0.0            0                   0.0        0.0   \n",
      "26                          0.0            0                   0.0        0.0   \n",
      "27                          0.0            0                   0.0        0.0   \n",
      "28                          0.0            0                   0.0        0.0   \n",
      "29                          0.0            0                   0.0        0.0   \n",
      "31                          0.0            0                   0.0        0.0   \n",
      "33                          0.0            0                   0.0        0.0   \n",
      "34                          0.0            0                   0.0        0.0   \n",
      "35                          0.0            0                   0.0        0.0   \n",
      "36                          0.0            0                   0.0        0.0   \n",
      "...                         ...          ...                   ...        ...   \n",
      "39672                       NaN            0                   NaN        0.0   \n",
      "39674                       NaN            0                   NaN        0.0   \n",
      "39675                       NaN            0                   NaN        0.0   \n",
      "39677                       NaN            0                   NaN        0.0   \n",
      "39678                       NaN            0                   NaN        0.0   \n",
      "39679                       NaN            0                   NaN        0.0   \n",
      "39680                       NaN            0                   1.0        0.0   \n",
      "39682                       NaN            0                   NaN        NaN   \n",
      "39683                       NaN            0                   NaN        0.0   \n",
      "39684                       NaN            0                   NaN        0.0   \n",
      "39685                       NaN            0                   NaN        NaN   \n",
      "39686                       NaN            0                   NaN        NaN   \n",
      "39687                       NaN            0                   NaN        NaN   \n",
      "39690                       NaN            0                   NaN        NaN   \n",
      "39691                       NaN            0                   NaN        NaN   \n",
      "39695                       NaN            0                   NaN        NaN   \n",
      "39696                       NaN            0                   NaN        NaN   \n",
      "39697                       NaN            0                   NaN        NaN   \n",
      "39698                       NaN            0                   NaN        NaN   \n",
      "39699                       NaN            0                   NaN        NaN   \n",
      "39701                       NaN            0                   NaN        NaN   \n",
      "39702                       NaN            0                   NaN        NaN   \n",
      "39704                       NaN            0                   NaN        NaN   \n",
      "39705                       NaN            0                   NaN        NaN   \n",
      "39708                       NaN            0                   NaN        NaN   \n",
      "39709                       NaN            0                   NaN        NaN   \n",
      "39710                       NaN            0                   NaN        NaN   \n",
      "39711                       NaN            0                   NaN        NaN   \n",
      "39712                       NaN            0                   NaN        NaN   \n",
      "39714                       NaN            0                   NaN        NaN   \n",
      "\n",
      "       LOAN_STAT_N  \n",
      "1                3  \n",
      "3                1  \n",
      "5                1  \n",
      "6                1  \n",
      "7                1  \n",
      "8                3  \n",
      "10               1  \n",
      "11               1  \n",
      "12               3  \n",
      "14               3  \n",
      "15               1  \n",
      "16               1  \n",
      "17               1  \n",
      "18               1  \n",
      "19               1  \n",
      "20               1  \n",
      "21               3  \n",
      "22               1  \n",
      "23               1  \n",
      "24               3  \n",
      "25               1  \n",
      "26               3  \n",
      "27               3  \n",
      "28               1  \n",
      "29               1  \n",
      "31               1  \n",
      "33               1  \n",
      "34               1  \n",
      "35               1  \n",
      "36               1  \n",
      "...            ...  \n",
      "39672            1  \n",
      "39674            1  \n",
      "39675            1  \n",
      "39677            1  \n",
      "39678            3  \n",
      "39679            1  \n",
      "39680            1  \n",
      "39682            1  \n",
      "39683            1  \n",
      "39684            1  \n",
      "39685            1  \n",
      "39686            1  \n",
      "39687            1  \n",
      "39690            1  \n",
      "39691            1  \n",
      "39695            1  \n",
      "39696            1  \n",
      "39697            1  \n",
      "39698            1  \n",
      "39699            1  \n",
      "39701            1  \n",
      "39702            1  \n",
      "39704            1  \n",
      "39705            1  \n",
      "39708            1  \n",
      "39709            1  \n",
      "39710            1  \n",
      "39711            1  \n",
      "39712            1  \n",
      "39714            1  \n",
      "\n",
      "[33729 rows x 20 columns]\n",
      "       months grade sub_grade                                       emp_title  \\\n",
      "1      months     C        C4                                           Ryder   \n",
      "3      months     C        C1                             AIR RESOURCES BOARD   \n",
      "5      months     A        A4                            Veolia Transportaton   \n",
      "6      months     C        C5                       Southern Star Photography   \n",
      "7      months     E        E1                                 MKC Accounting    \n",
      "8      months     F        F2                                             NaN   \n",
      "10     months     C        C3                           Southwest Rural metro   \n",
      "11     months     B        B5                                            UCLA   \n",
      "12     months     C        C1             Va. Dept of Conservation/Recreation   \n",
      "14     months     B        B2                                           SFMTA   \n",
      "15     months     D        D1                        Internal revenue Service   \n",
      "16     months     C        C4                               Chin's Restaurant   \n",
      "17     months     A        A1                                        Duracell   \n",
      "18     months     B        B3                           Connection Inspection   \n",
      "19     months     A        A1                    Network Interpreting Service   \n",
      "20     months     C        C4                Archdiocese of Galveston Houston   \n",
      "21     months     B        B4                                  Osram Sylvania   \n",
      "22     months     B        B3                                       Value Air   \n",
      "23     months     B        B3                                Wells Fargo Bank   \n",
      "24     months     B        B3                                 bmg-educational   \n",
      "25     months     B        B1                  Winfield Pathology Consultants   \n",
      "26     months     C        C2                                     nyc transit   \n",
      "27     months     D        D2                                       Frito Lay   \n",
      "28     months     B        B3         Shands Hospital at the University of Fl   \n",
      "29     months     B        B3                                  Oakridge homes   \n",
      "31     months     A        A4              Audubon Mutual Housing Corporation   \n",
      "33     months     A        A5                          Good Samaritan Society   \n",
      "34     months     C        C5                            GREG BARRETT DRYWALL   \n",
      "35     months     B        B2                                 Sharp Lawn Inc.   \n",
      "36     months     B        B1                           Department of Justice   \n",
      "...       ...   ...       ...                                             ...   \n",
      "39672  months     A        A2                                             NaN   \n",
      "39674  months     E        E2                                             NaN   \n",
      "39675  months     B        B4                        MasterCard International   \n",
      "39677  months     B        B5         Aramis Designer Fragrances/Estee Lauder   \n",
      "39678  months     C        C2                         Invision Power Services   \n",
      "39679  months     A        A4                                         Verizon   \n",
      "39680  months     D        D1                         Fairfield Manufacturing   \n",
      "39682  months     A        A2                                             FDA   \n",
      "39683  months     A        A2                       Norman G. Olson Insurance   \n",
      "39684  months     D        D1                        Panavision International   \n",
      "39685  months     A        A2                                   Self-Employed   \n",
      "39686  months     B        B4                                 Stratagem, Inc.   \n",
      "39687  months     D        D3                           ISO MERCHANT SERVICES   \n",
      "39690  months     C        C2                                  Zensah Company   \n",
      "39691  months     F        F4                             Turner Construction   \n",
      "39695  months     A        A2                                  MetraTech Corp   \n",
      "39696  months     C        C2  Institute for Mind/Body Research and Education   \n",
      "39697  months     C        C1                            RoadNarrows Robotics   \n",
      "39698  months     B        B2                                      Viget Labs   \n",
      "39699  months     A        A5                 Northwestern School Corporation   \n",
      "39701  months     A        A5                           Peerless Pump Company   \n",
      "39702  months     C        C4                                   Self-employed   \n",
      "39704  months     B        B1                                             NaN   \n",
      "39705  months     A        A2                                       MetraTech   \n",
      "39708  months     B        B5                                 Millenium Group   \n",
      "39709  months     C        C4                                  Self-Employeed   \n",
      "39710  months     A        A2                               Rush Univ Med Grp   \n",
      "39711  months     B        B1                             A. F. Wolfers, Inc.   \n",
      "39712  months     A        A4                                 FiSite Research   \n",
      "39714  months     A        A4                                             NaN   \n",
      "\n",
      "      No of uears home_ownership verification_status issue_d pymnt_plan  \\\n",
      "1           years           RENT     Source Verified  11-Dec          n   \n",
      "3           years           RENT     Source Verified  11-Dec          n   \n",
      "5           years           RENT     Source Verified  11-Dec          n   \n",
      "6           years           RENT        Not Verified  11-Dec          n   \n",
      "7           years           RENT     Source Verified  11-Dec          n   \n",
      "8           years            OWN     Source Verified  11-Dec          n   \n",
      "10          years            OWN        Not Verified  11-Dec          n   \n",
      "11          years            OWN     Source Verified  11-Dec          n   \n",
      "12          years           RENT     Source Verified  11-Dec          n   \n",
      "14          years           RENT     Source Verified  11-Dec          n   \n",
      "15          years           RENT        Not Verified  11-Dec          n   \n",
      "16          years           RENT        Not Verified  11-Dec          n   \n",
      "17          years       MORTGAGE        Not Verified  11-Dec          n   \n",
      "18           year       MORTGAGE            Verified  11-Dec          n   \n",
      "19          years           RENT        Not Verified  11-Dec          n   \n",
      "20          years           RENT            Verified  11-Dec          n   \n",
      "21          years           RENT            Verified  11-Dec          n   \n",
      "22          years            OWN     Source Verified  11-Dec          n   \n",
      "23          years           RENT        Not Verified  11-Dec          n   \n",
      "24           year           RENT        Not Verified  11-Dec          n   \n",
      "25          years       MORTGAGE            Verified  11-Dec          n   \n",
      "26          years           RENT        Not Verified  11-Dec          n   \n",
      "27          years           RENT        Not Verified  11-Dec          n   \n",
      "28          years       MORTGAGE        Not Verified  11-Dec          n   \n",
      "29          years           RENT     Source Verified  11-Dec          n   \n",
      "31          years       MORTGAGE            Verified  11-Dec          n   \n",
      "33          years           RENT            Verified  11-Dec          n   \n",
      "34          years           RENT     Source Verified  11-Dec          n   \n",
      "35          years           RENT        Not Verified  11-Dec          n   \n",
      "36          years           RENT     Source Verified  11-Dec          n   \n",
      "...           ...            ...                 ...     ...        ...   \n",
      "39672       years       MORTGAGE        Not Verified  07-Aug          n   \n",
      "39674       years           RENT        Not Verified  07-Aug          n   \n",
      "39675       years       MORTGAGE        Not Verified  07-Aug          n   \n",
      "39677        year           RENT        Not Verified  07-Aug          n   \n",
      "39678       years       MORTGAGE        Not Verified  07-Aug          n   \n",
      "39679       years           RENT        Not Verified  07-Aug          n   \n",
      "39680       years       MORTGAGE        Not Verified  07-Aug          n   \n",
      "39682       years       MORTGAGE        Not Verified  07-Jul          n   \n",
      "39683       years           RENT        Not Verified  07-Jul          n   \n",
      "39684        year           RENT        Not Verified  07-Aug          n   \n",
      "39685       years            OWN        Not Verified  07-Aug          n   \n",
      "39686        year           RENT        Not Verified  07-Aug          n   \n",
      "39687       years            OWN        Not Verified  07-Aug          n   \n",
      "39690       years           RENT        Not Verified  07-Jul          n   \n",
      "39691        year           RENT        Not Verified  07-Jul          n   \n",
      "39695       years       MORTGAGE        Not Verified  07-Jul          n   \n",
      "39696       years           RENT        Not Verified  07-Jul          n   \n",
      "39697       years           RENT        Not Verified  07-Jul          n   \n",
      "39698        year           RENT        Not Verified  07-Jul          n   \n",
      "39699       years           RENT        Not Verified  07-Jul          n   \n",
      "39701       years       MORTGAGE        Not Verified  07-Jul          n   \n",
      "39702        year            OWN        Not Verified  07-Jul          n   \n",
      "39704       years       MORTGAGE        Not Verified  07-Jul          n   \n",
      "39705       years       MORTGAGE        Not Verified  07-Jul          n   \n",
      "39708       years       MORTGAGE        Not Verified  07-Jul          n   \n",
      "39709       years            OWN        Not Verified  07-Jul          n   \n",
      "39710        year            OWN        Not Verified  07-Jul          n   \n",
      "39711       years       MORTGAGE        Not Verified  07-Jul          n   \n",
      "39712       years       MORTGAGE        Not Verified  07-Jul          n   \n",
      "39714       years       MORTGAGE        Not Verified  07-Jul          n   \n",
      "\n",
      "                  purpose initial_list_status HOME_N  \n",
      "1                     car                   f      1  \n",
      "3                   other                   f      1  \n",
      "5                 wedding                   f      1  \n",
      "6      debt_consolidation                   f      1  \n",
      "7                     car                   f      1  \n",
      "8          small_business                   f      3  \n",
      "10     debt_consolidation                   f      3  \n",
      "11     debt_consolidation                   f      3  \n",
      "12     debt_consolidation                   f      1  \n",
      "14                  other                   f      1  \n",
      "15     debt_consolidation                   f      1  \n",
      "16       home_improvement                   f      1  \n",
      "17         major_purchase                   f      2  \n",
      "18                medical                   f      2  \n",
      "19     debt_consolidation                   f      1  \n",
      "20     debt_consolidation                   f      1  \n",
      "21     debt_consolidation                   f      1  \n",
      "22            credit_card                   f      3  \n",
      "23     debt_consolidation                   f      1  \n",
      "24         major_purchase                   f      1  \n",
      "25            credit_card                   f      2  \n",
      "26     debt_consolidation                   f      1  \n",
      "27                  other                   f      1  \n",
      "28     debt_consolidation                   f      2  \n",
      "29            credit_card                   f      1  \n",
      "31     debt_consolidation                   f      2  \n",
      "33     debt_consolidation                   f      1  \n",
      "34            credit_card                   f      1  \n",
      "35            credit_card                   f      1  \n",
      "36                 moving                   f      1  \n",
      "...                   ...                 ...    ...  \n",
      "39672         credit_card                   f      2  \n",
      "39674  debt_consolidation                   f      1  \n",
      "39675  debt_consolidation                   f      2  \n",
      "39677               other                   f      1  \n",
      "39678             wedding                   f      2  \n",
      "39679         credit_card                   f      1  \n",
      "39680  debt_consolidation                   f      2  \n",
      "39682  debt_consolidation                   f      2  \n",
      "39683                 car                   f      1  \n",
      "39684  debt_consolidation                   f      1  \n",
      "39685         credit_card                   f      3  \n",
      "39686              moving                   f      1  \n",
      "39687         credit_card                   f      3  \n",
      "39690      small_business                   f      1  \n",
      "39691  debt_consolidation                   f      1  \n",
      "39695            vacation                   f      2  \n",
      "39696      small_business                   f      1  \n",
      "39697      small_business                   f      1  \n",
      "39698         credit_card                   f      1  \n",
      "39699            vacation                   f      1  \n",
      "39701         credit_card                   f      2  \n",
      "39702         credit_card                   f      3  \n",
      "39704      small_business                   f      2  \n",
      "39705  debt_consolidation                   f      2  \n",
      "39708  debt_consolidation                   f      2  \n",
      "39709         credit_card                   f      3  \n",
      "39710         credit_card                   f      3  \n",
      "39711         credit_card                   f      2  \n",
      "39712    home_improvement                   f      2  \n",
      "39714  debt_consolidation                   f      2  \n",
      "\n",
      "[33729 rows x 12 columns]\n"
     ]
    }
   ],
   "source": [
    "#Finding Numerical Features\n",
    "numeric_loan=new_df.select_dtypes(include=[np.number])\n",
    "print(numeric_loan)\n",
    "#Finding categorical  Features\n",
    "catg_loan=new_df.select_dtypes(exclude=[np.number])\n",
    "print(catg_loan)"
   ]
  },
  {
   "cell_type": "code",
   "execution_count": 45,
   "metadata": {},
   "outputs": [
    {
     "data": {
      "text/plain": [
       "Index(['id', 'member_id', 'loan_amnt', 'funded_amnt', 'funded_amnt_inv',\n",
       "       'term', 'int_rate', 'installment', 'emp_length', 'annual_inc',\n",
       "       'loan_status', 'dti', 'collections_12_mths_ex_med', 'policy_code',\n",
       "       'acc_now_delinq', 'chargeoff_within_12_mths', 'delinq_amnt',\n",
       "       'pub_rec_bankruptcies', 'tax_liens', 'LOAN_STAT_N'],\n",
       "      dtype='object')"
      ]
     },
     "execution_count": 45,
     "metadata": {},
     "output_type": "execute_result"
    }
   ],
   "source": [
    "numeric_loan.columns"
   ]
  },
  {
   "cell_type": "code",
   "execution_count": 46,
   "metadata": {},
   "outputs": [
    {
     "data": {
      "text/plain": [
       "Index(['months', 'grade', 'sub_grade', 'emp_title', 'No of uears',\n",
       "       'home_ownership', 'verification_status', 'issue_d', 'pymnt_plan',\n",
       "       'purpose', 'initial_list_status', 'HOME_N'],\n",
       "      dtype='object')"
      ]
     },
     "execution_count": 46,
     "metadata": {},
     "output_type": "execute_result"
    }
   ],
   "source": [
    "catg_loan.columns"
   ]
  },
  {
   "cell_type": "code",
   "execution_count": 47,
   "metadata": {},
   "outputs": [
    {
     "name": "stderr",
     "output_type": "stream",
     "text": [
      "C:\\Users\\dell\\Anaconda3\\lib\\site-packages\\statsmodels\\nonparametric\\kde.py:488: RuntimeWarning: invalid value encountered in true_divide\n",
      "  binned = fast_linbin(X, a, b, gridsize) / (delta * nobs)\n",
      "C:\\Users\\dell\\Anaconda3\\lib\\site-packages\\statsmodels\\nonparametric\\kdetools.py:34: RuntimeWarning: invalid value encountered in double_scalars\n",
      "  FAC1 = 2*(np.pi*bw/RANGE)**2\n",
      "C:\\Users\\dell\\Anaconda3\\lib\\site-packages\\numpy\\core\\fromnumeric.py:83: RuntimeWarning: invalid value encountered in reduce\n",
      "  return ufunc.reduce(obj, axis, dtype, out, **passkwargs)\n"
     ]
    },
    {
     "data": {
      "image/png": "[encoded data removed]",
      "text/plain": [
       "<Figure size 864x1080 with 20 Axes>"
      ]
     },
     "metadata": {
      "needs_background": "light"
     },
     "output_type": "display_data"
    }
   ],
   "source": [
    "#Distrubution of numerical features\n",
    "f=pd.melt(new_df, value_vars=sorted(numeric_loan))\n",
    "g=sns.FacetGrid(f,col='variable',col_wrap=4 ,sharex=False ,sharey=False)\n",
    "g=g.map(sns.distplot,'value')"
   ]
  },
  {
   "cell_type": "code",
   "execution_count": 29,
   "metadata": {},
   "outputs": [],
   "source": [
    "#The easiest way to analyse how default rates vary across continous variables is to bin the variables into discrete categories.\n",
    "#Let's bin the loan amount variable into small, medium, high, very high\n",
    "\n",
    "# binning loan amount\n",
    "def loan_amount(n):\n",
    "    if n < 5000:\n",
    "        return 'low'\n",
    "    elif n >=5000 and n < 15000:\n",
    "        return 'medium'\n",
    "    elif n >= 15000 and n < 25000:\n",
    "        return 'high'\n",
    "    else:\n",
    "        return 'very high'\n",
    "        \n",
    "df['loan_amnt'] = df['loan_amnt'].apply(lambda x: loan_amount(x))\n"
   ]
  },
  {
   "cell_type": "code",
   "execution_count": 30,
   "metadata": {},
   "outputs": [
    {
     "data": {
      "text/plain": [
       "medium       20675\n",
       "high          7696\n",
       "low           7444\n",
       "very high     2762\n",
       "Name: loan_amnt, dtype: int64"
      ]
     },
     "execution_count": 30,
     "metadata": {},
     "output_type": "execute_result"
    }
   ],
   "source": [
    "df['loan_amnt'].value_counts()"
   ]
  },
  {
   "cell_type": "code",
   "execution_count": 32,
   "metadata": {},
   "outputs": [],
   "source": [
    "# let's also convert funded amount invested to bins\n",
    "df['funded_amnt_inv'] = df['funded_amnt_inv'].apply(lambda x: loan_amount(x))"
   ]
  },
  {
   "cell_type": "code",
   "execution_count": 33,
   "metadata": {},
   "outputs": [
    {
     "data": {
      "image/png": "[encoded data removed]",
      "text/plain": [
       "<Figure size 432x288 with 1 Axes>"
      ]
     },
     "metadata": {
      "needs_background": "light"
     },
     "output_type": "display_data"
    }
   ],
   "source": [
    "# funded amount invested\n",
    "plot_cat('funded_amnt_inv')"
   ]
  },
  {
   "cell_type": "code",
   "execution_count": 35,
   "metadata": {},
   "outputs": [],
   "source": [
    "# debt to income ratio\n",
    "def dti(n):\n",
    "    if n <= 10:\n",
    "        return 'low'\n",
    "    elif n > 10 and n <=20:\n",
    "        return 'medium'\n",
    "    else:\n",
    "        return 'high'\n",
    "    \n",
    "\n",
    "df['dti'] = df['dti'].apply(lambda x: dti(x))"
   ]
  },
  {
   "cell_type": "code",
   "execution_count": 36,
   "metadata": {},
   "outputs": [
    {
     "data": {
      "image/png": "[encoded data removed]",
      "text/plain": [
       "<Figure size 432x288 with 1 Axes>"
      ]
     },
     "metadata": {
      "needs_background": "light"
     },
     "output_type": "display_data"
    }
   ],
   "source": [
    "# comparing default rates across debt to income ratio\n",
    "# high dti translates into higher default rates, as expected\n",
    "plot_cat('dti')"
   ]
  },
  {
   "cell_type": "code",
   "execution_count": 37,
   "metadata": {},
   "outputs": [],
   "source": [
    "# installment\n",
    "def installment(n):\n",
    "    if n <= 200:\n",
    "        return 'low'\n",
    "    elif n > 200 and n <=400:\n",
    "        return 'medium'\n",
    "    elif n > 400 and n <=600:\n",
    "        return 'high'\n",
    "    else:\n",
    "        return 'very high'\n",
    "    \n",
    "df['installment'] = df['installment'].apply(lambda x: installment(x))"
   ]
  },
  {
   "cell_type": "code",
   "execution_count": 38,
   "metadata": {},
   "outputs": [
    {
     "data": {
      "image/png": "[encoded data removed]",
      "text/plain": [
       "<Figure size 432x288 with 1 Axes>"
      ]
     },
     "metadata": {
      "needs_background": "light"
     },
     "output_type": "display_data"
    }
   ],
   "source": [
    "# comparing default rates across installment\n",
    "# the higher the installment amount, the higher the default rate\n",
    "plot_cat('installment')"
   ]
  },
  {
   "cell_type": "code",
   "execution_count": 40,
   "metadata": {},
   "outputs": [
    {
     "data": {
      "image/png": "[encoded data removed]",
      "text/plain": [
       "<Figure size 1440x432 with 1 Axes>"
      ]
     },
     "metadata": {
      "needs_background": "light"
     },
     "output_type": "display_data"
    }
   ],
   "source": [
    "# lets first look at the number of loans for each type (purpose) of the loan\n",
    "# most loans are debt consolidation (to repay otehr debts), then credit card, major purchase etc.\n",
    "plt.figure(figsize=(20, 6))\n",
    "sns.countplot(x='purpose', data=df)\n",
    "plt.show()"
   ]
  },
  {
   "cell_type": "code",
   "execution_count": 41,
   "metadata": {},
   "outputs": [
    {
     "data": {
      "text/plain": [
       "debt_consolidation    18055\n",
       "credit_card            5027\n",
       "home_improvement       2875\n",
       "major_purchase         2150\n",
       "Name: purpose, dtype: int64"
      ]
     },
     "execution_count": 41,
     "metadata": {},
     "output_type": "execute_result"
    }
   ],
   "source": [
    "# filtering the df for the top 4 types of loans mentioned above\n",
    "main_purposes = [\"credit_card\",\"debt_consolidation\",\"home_improvement\",\"major_purchase\"]\n",
    "df = df[df['purpose'].isin(main_purposes)]\n",
    "df['purpose'].value_counts()"
   ]
  },
  {
   "cell_type": "code",
   "execution_count": 42,
   "metadata": {},
   "outputs": [
    {
     "data": {
      "image/png": "[encoded data removed]",
      "text/plain": [
       "<Figure size 432x288 with 1 Axes>"
      ]
     },
     "metadata": {
      "needs_background": "light"
     },
     "output_type": "display_data"
    }
   ],
   "source": [
    "# plotting number of loans by purpose \n",
    "sns.countplot(x=df['purpose'])\n",
    "plt.show()"
   ]
  },
  {
   "cell_type": "code",
   "execution_count": 1,
   "metadata": {},
   "outputs": [
    {
     "ename": "NameError",
     "evalue": "name 'plt' is not defined",
     "output_type": "error",
     "traceback": [
      "\u001b[1;31m---------------------------------------------------------------------------\u001b[0m",
      "\u001b[1;31mNameError\u001b[0m                                 Traceback (most recent call last)",
      "\u001b[1;32m<ipython-input-1-e4d0492737c3>\u001b[0m in \u001b[0;36m<module>\u001b[1;34m\u001b[0m\n\u001b[1;32m----> 1\u001b[1;33m \u001b[0mplt\u001b[0m\u001b[1;33m.\u001b[0m\u001b[0mscatter\u001b[0m\u001b[1;33m(\u001b[0m\u001b[0mannual_inc\u001b[0m\u001b[1;33m,\u001b[0m\u001b[0mloan_amnt\u001b[0m\u001b[1;33m)\u001b[0m\u001b[1;33m\u001b[0m\u001b[1;33m\u001b[0m\u001b[0m\n\u001b[0m",
      "\u001b[1;31mNameError\u001b[0m: name 'plt' is not defined"
     ]
    }
   ],
   "source": [
    "plt.scatter(annual_inc,loan_amnt)"
   ]
  },
  {
   "cell_type": "code",
   "execution_count": null,
   "metadata": {},
   "outputs": [],
   "source": [
    "plt.scatter(annual_inc,int_rate, s=area, c=colors, alpha=0.5)\n",
    "plt.show()"
   ]
  }
 ],
 "metadata": {
  "kernelspec": {
   "display_name": "Python 3",
   "language": "python",
   "name": "python3"
  },
  "language_info": {
   "codemirror_mode": {
    "name": "ipython",
    "version": 3
   },
   "file_extension": ".py",
   "mimetype": "text/x-python",
   "name": "python",
   "nbconvert_exporter": "python",
   "pygments_lexer": "ipython3",
   "version": "3.7.3"
  }
 },
 "nbformat": 4,
 "nbformat_minor": 2
}
